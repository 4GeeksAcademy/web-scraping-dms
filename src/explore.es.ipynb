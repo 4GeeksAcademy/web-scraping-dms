{
    "cells": [
        {
            "cell_type": "markdown",
            "metadata": {},
            "source": [
                "# Explora aquí\n",
                "\n",
                "Se recomienda utilizar este cuaderno con fines de exploración."
            ]
        },
        {
            "cell_type": "code",
            "execution_count": 2,
            "metadata": {},
            "outputs": [],
            "source": [
                "import os\n",
                "from bs4 import BeautifulSoup\n",
                "import requests\n",
                "import time\n",
                "import sqlite3\n",
                "import matplotlib.pyplot as plt\n",
                "import seaborn as sns\n",
                "\n"
            ]
        },
        {
            "cell_type": "code",
            "execution_count": 6,
            "metadata": {},
            "outputs": [
                {
                    "data": {
                        "text/plain": [
                            "'<!DOCTYPE html PUBLIC \"-//W3C//DTD XHTML 1.0 Transitional//EN\" \"http://www.w3.org/TR/xhtml1/DTD/xhtml1-transitional.dtd\">\\n<html xmlns=\"http://www.w3.org/1999/xhtml\">\\n<head>\\n<meta http-equiv=\"Content-Type\" content=\"text/html; charset=UTF-8\" />\\n<title>SEC.gov | Request Rate Threshold Exceeded</title>\\n<style>\\nhtml {height: 100%}\\nbody {height: 100%; margin:0; padding:0;}\\n#header {background-color:#003968; color:#fff; padding:15px 20px 10px 20px;font-family:Arial, Helvetica, sans-serif; font-size:20px; border-bottom:solid 5px #000;}\\n#footer {background-color:#003968; color:#fff; padding:15px 20px;font-family:Arial, Helvetica, sans-serif; font-size:20px;}\\n#content {max-width:650px;margin:60px auto; padding:0 20px 100px 20px; background-image:url(seal_bw.png);background-repeat:no-repeat;background-position:50% 100%;}\\nh1 {font-family:Georgia, Times, serif; font-size:20px;}\\nh2 {text-align:center; font-family:Georgia, Times, serif; font-size:20px; width:100%; border-bottom:solid #999 1px;padding-bottom:10px; margin-bottom:20px;}\\nh3 {font-family:Georgia, Times, serif; font-size:16px; margin:25px 0 0 0;}\\np {font-family:Verdana, Geneva, sans-serif;font-size:14px;line-height:1.3;}\\n.grey_box {background-color:#eee; padding:5px 40px 20px 40px;margin-top:75px;}\\n.grey_box p {font-size:12px;line-height:1.5}\\n.note {padding: 0 40px; font-style: italic;}\\n</style>\\n</head>\\n\\n<body>\\n<div id=\"header\">U.S. Securities and Exchange Commission</div>\\n<div id=\"content\">\\n<h1>Automated access to our sites must comply with SEC.gov\\'s Privacy and Security Policy.</h1>\\n\\n<p>Please visit <a href=\"https://www.sec.gov/developer\" target=\"_blank\">www.sec.gov/developer</a> for more developer resources and Fair Access guidelines.</p>\\n<p>Please visit <a href=\"https://www.sec.gov/privacy\" target=\"_blank\">www.sec.gov/privacy</a> for more information on Privacy Policy.</p>\\n\\n<p>Reference ID: 0.976bdc17.1729632096.f652392</p>\\n\\n</body>\\n</html>\\n'"
                        ]
                    },
                    "execution_count": 6,
                    "metadata": {},
                    "output_type": "execute_result"
                }
            ],
            "source": [
                "#Paso 2: Descargar HTML\n",
                "\n",
                "url = 'https://www.sec.gov/newsroom/press-releases?page=0&combine=&year=All&month=All&order=field_publish_date&sort=desc'\n",
                "\n",
                "html_data = requests.get(url,time.sleep(7)).text\n",
                "if \"403 ERROR\" in html_data:\n",
                "    #para indicar que no es un robot sino que un usuario desde una pagina standar\n",
                "    headers = {'User-Agent':'Mozilla/5.0 (Macintosh; Intel Mac OS X 10_11_5) AppleWebKit/537.36 (KHTML, like Gecko) Chrome/50.0.2661.102 Safari/537.36'}\n",
                "    request = requests.get(url,headers=headers)\n",
                "    time.sleep(7)\n",
                "    html_data = request.text\n",
                "\n",
                "html_data"
            ]
        },
        {
            "cell_type": "markdown",
            "metadata": {},
            "source": [
                "Sept. 26, 2024"
            ]
        },
        {
            "cell_type": "code",
            "execution_count": 8,
            "metadata": {},
            "outputs": [
                {
                    "data": {
                        "text/plain": [
                            "<!DOCTYPE html PUBLIC \"-//W3C//DTD XHTML 1.0 Transitional//EN\" \"http://www.w3.org/TR/xhtml1/DTD/xhtml1-transitional.dtd\">\n",
                            "\n",
                            "<html xmlns=\"http://www.w3.org/1999/xhtml\">\n",
                            "<head>\n",
                            "<meta content=\"text/html; charset=utf-8\" http-equiv=\"Content-Type\"/>\n",
                            "<title>SEC.gov | Request Rate Threshold Exceeded</title>\n",
                            "<style>\n",
                            "html {height: 100%}\n",
                            "body {height: 100%; margin:0; padding:0;}\n",
                            "#header {background-color:#003968; color:#fff; padding:15px 20px 10px 20px;font-family:Arial, Helvetica, sans-serif; font-size:20px; border-bottom:solid 5px #000;}\n",
                            "#footer {background-color:#003968; color:#fff; padding:15px 20px;font-family:Arial, Helvetica, sans-serif; font-size:20px;}\n",
                            "#content {max-width:650px;margin:60px auto; padding:0 20px 100px 20px; background-image:url(seal_bw.png);background-repeat:no-repeat;background-position:50% 100%;}\n",
                            "h1 {font-family:Georgia, Times, serif; font-size:20px;}\n",
                            "h2 {text-align:center; font-family:Georgia, Times, serif; font-size:20px; width:100%; border-bottom:solid #999 1px;padding-bottom:10px; margin-bottom:20px;}\n",
                            "h3 {font-family:Georgia, Times, serif; font-size:16px; margin:25px 0 0 0;}\n",
                            "p {font-family:Verdana, Geneva, sans-serif;font-size:14px;line-height:1.3;}\n",
                            ".grey_box {background-color:#eee; padding:5px 40px 20px 40px;margin-top:75px;}\n",
                            ".grey_box p {font-size:12px;line-height:1.5}\n",
                            ".note {padding: 0 40px; font-style: italic;}\n",
                            "</style>\n",
                            "</head>\n",
                            "<body>\n",
                            "<div id=\"header\">U.S. Securities and Exchange Commission</div>\n",
                            "<div id=\"content\">\n",
                            "<h1>Automated access to our sites must comply with SEC.gov's Privacy and Security Policy.</h1>\n",
                            "<p>Please visit <a href=\"https://www.sec.gov/developer\" target=\"_blank\">www.sec.gov/developer</a> for more developer resources and Fair Access guidelines.</p>\n",
                            "<p>Please visit <a href=\"https://www.sec.gov/privacy\" target=\"_blank\">www.sec.gov/privacy</a> for more information on Privacy Policy.</p>\n",
                            "<p>Reference ID: 0.976bdc17.1729632096.f652392</p>\n",
                            "</div></body>\n",
                            "</html>"
                        ]
                    },
                    "execution_count": 8,
                    "metadata": {},
                    "output_type": "execute_result"
                }
            ],
            "source": [
                "# Paso 3: Transforma el HTML\n",
                "soup = BeautifulSoup(html_data,'html.parser')\n",
                "#soup\n",
                "#3.1. Buscar todas las tablas\n",
                "tablas = soup.find_all('table')\n",
                "\n",
                "soup"
            ]
        }
    ],
    "metadata": {
        "kernelspec": {
            "display_name": "Python 3",
            "language": "python",
            "name": "python3"
        },
        "language_info": {
            "codemirror_mode": {
                "name": "ipython",
                "version": 3
            },
            "file_extension": ".py",
            "mimetype": "text/x-python",
            "name": "python",
            "nbconvert_exporter": "python",
            "pygments_lexer": "ipython3",
            "version": "3.11.4"
        },
        "orig_nbformat": 4
    },
    "nbformat": 4,
    "nbformat_minor": 2
}
